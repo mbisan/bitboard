{
 "cells": [
  {
   "cell_type": "code",
   "execution_count": 55,
   "metadata": {},
   "outputs": [
    {
     "name": "stdout",
     "output_type": "stream",
     "text": [
      "1ULL<<0, 1ULL<<1, 1ULL<<2, 1ULL<<3, 1ULL<<4, 1ULL<<5, 1ULL<<6, 1ULL<<7, 1ULL<<8, 1ULL<<9, 1ULL<<10, 1ULL<<11, 1ULL<<12, 1ULL<<13, 1ULL<<14, 1ULL<<15, 1ULL<<16, 1ULL<<17, 1ULL<<18, 1ULL<<19, 1ULL<<20, 1ULL<<21, 1ULL<<22, 1ULL<<23, 1ULL<<24, 1ULL<<25, 1ULL<<26, 1ULL<<27, 1ULL<<28, 1ULL<<29, 1ULL<<30, 1ULL<<31, 1ULL<<32, 1ULL<<33, 1ULL<<34, 1ULL<<35, 1ULL<<36, 1ULL<<37, 1ULL<<38, 1ULL<<39, 1ULL<<40, 1ULL<<41, 1ULL<<42, 1ULL<<43, 1ULL<<44, 1ULL<<45, 1ULL<<46, 1ULL<<47, 1ULL<<48, 1ULL<<49, 1ULL<<50, 1ULL<<51, 1ULL<<52, 1ULL<<53, 1ULL<<54, 1ULL<<55, 1ULL<<56, 1ULL<<57, 1ULL<<58, 1ULL<<59, 1ULL<<60, 1ULL<<61, 1ULL<<62, 1ULL<<63, "
     ]
    }
   ],
   "source": [
    "for i in range(64):\n",
    "    print(f\"1ULL<<{i}, \", end=\"\")"
   ]
  },
  {
   "cell_type": "code",
   "execution_count": 49,
   "metadata": {},
   "outputs": [],
   "source": [
    "possiblePositions = []\n",
    "for i in range(8):\n",
    "    for j in range(8):\n",
    "        possiblePositions.append([])\n",
    "        for h in range(1, 8):\n",
    "            possiblePositions[-1].append((i+h, j))\n",
    "            possiblePositions[-1].append((i-h, j))\n",
    "            possiblePositions[-1].append((i, j+h))\n",
    "            possiblePositions[-1].append((i, j-h))\n",
    "\n",
    "            possiblePositions[-1].append((i+h, j+h))\n",
    "            possiblePositions[-1].append((i-h, j-h))\n",
    "            possiblePositions[-1].append((i-h, j+h))\n",
    "            possiblePositions[-1].append((i+h, j-h))"
   ]
  },
  {
   "cell_type": "code",
   "execution_count": 50,
   "metadata": {},
   "outputs": [],
   "source": [
    "actualpositions = []\n",
    "for i in range(64):\n",
    "    actualpositions.append([])\n",
    "    for position in possiblePositions[i]:\n",
    "        if not (position[0] < 0 or position[1]<0 or position[0]>7 or position[1]>7):\n",
    "            actualpositions[-1].append(position)\n"
   ]
  },
  {
   "cell_type": "code",
   "execution_count": 51,
   "metadata": {},
   "outputs": [
    {
     "data": {
      "text/plain": [
       "[(1, 0),\n",
       " (0, 1),\n",
       " (1, 1),\n",
       " (2, 0),\n",
       " (0, 2),\n",
       " (2, 2),\n",
       " (3, 0),\n",
       " (0, 3),\n",
       " (3, 3),\n",
       " (4, 0),\n",
       " (0, 4),\n",
       " (4, 4),\n",
       " (5, 0),\n",
       " (0, 5),\n",
       " (5, 5),\n",
       " (6, 0),\n",
       " (0, 6),\n",
       " (6, 6),\n",
       " (7, 0),\n",
       " (0, 7),\n",
       " (7, 7)]"
      ]
     },
     "execution_count": 51,
     "metadata": {},
     "output_type": "execute_result"
    }
   ],
   "source": [
    "actualpositions[0]"
   ]
  },
  {
   "cell_type": "code",
   "execution_count": 52,
   "metadata": {},
   "outputs": [],
   "source": [
    "data = []\n",
    "for poslist in actualpositions:\n",
    "    res = 0\n",
    "    for i, j in poslist:\n",
    "        res += 2**(8*i + j)\n",
    "    data.append(res)"
   ]
  },
  {
   "cell_type": "code",
   "execution_count": 53,
   "metadata": {},
   "outputs": [
    {
     "data": {
      "text/plain": [
       "64"
      ]
     },
     "execution_count": 53,
     "metadata": {},
     "output_type": "execute_result"
    }
   ],
   "source": [
    "len(data)"
   ]
  },
  {
   "cell_type": "code",
   "execution_count": 54,
   "metadata": {},
   "outputs": [
    {
     "name": "stdout",
     "output_type": "stream",
     "text": [
      "9313761861428380670ULL, 180779649147209725ULL, 289501704256556795ULL, 578721933553179895ULL, 1157442771889699055ULL, 2314886638996058335ULL, 4630054752952049855ULL, 9332167099941961855ULL, 4693051017133293059ULL, 9386102034266586375ULL, 325459994840333070ULL, 578862399937640220ULL, 1157444424410132280ULL, 2315169224285282160ULL, 4702396038313459680ULL, 9404792076610076608ULL, 2382695595002168069ULL, 4765391190004401930ULL, 9530782384287059477ULL, 614821794359483434ULL, 1157867469641037908ULL, 2387511058326581416ULL, 4775021017124823120ULL, 9550042029937901728ULL, 1227517888139822345ULL, 2455035776296487442ULL, 4910072647826412836ULL, 9820426766351346249ULL, 1266167048752878738ULL, 2460276499189639204ULL, 4920271519124312136ULL, 9840541934442029200ULL, 649930110732142865ULL, 1299860225776030242ULL, 2600000831312176196ULL, 5272058161445620104ULL, 10544115227674579473ULL, 2641485286422881314ULL, 5210911883574396996ULL, 10421541192660455560ULL, 361411684042608929ULL, 722824471891812930ULL, 1517426162373248132ULL, 3034571949281478664ULL, 6068863523097809168ULL, 12137446670713758241ULL, 5827868887957914690ULL, 11583398706901190788ULL, 287670746360127809ULL, 575624067208594050ULL, 1079472019650937860ULL, 2087167920257370120ULL, 4102559721436811280ULL, 8133343319517438240ULL, 16194909420462031425ULL, 13871017173176583298ULL, 18303478847064064385ULL, 18232552689433215490ULL, 18090419998706369540ULL, 17806153522019305480ULL, 17237620560088797200ULL, 16100553540994408480ULL, 13826139127340482880ULL, 9205534180971414145ULL, "
     ]
    }
   ],
   "source": [
    "for num in data:\n",
    "    print(f\"{num}ULL, \", end=\"\")"
   ]
  },
  {
   "cell_type": "code",
   "execution_count": null,
   "metadata": {},
   "outputs": [],
   "source": []
  },
  {
   "cell_type": "code",
   "execution_count": 48,
   "metadata": {},
   "outputs": [
    {
     "data": {
      "text/plain": [
       "'0b100000001000000010000000100000001000000010000000111111110'"
      ]
     },
     "execution_count": 48,
     "metadata": {},
     "output_type": "execute_result"
    }
   ],
   "source": [
    "bin(72340172838076926)"
   ]
  }
 ],
 "metadata": {
  "kernelspec": {
   "display_name": "ssstsc",
   "language": "python",
   "name": "python3"
  },
  "language_info": {
   "codemirror_mode": {
    "name": "ipython",
    "version": 3
   },
   "file_extension": ".py",
   "mimetype": "text/x-python",
   "name": "python",
   "nbconvert_exporter": "python",
   "pygments_lexer": "ipython3",
   "version": "3.10.13"
  }
 },
 "nbformat": 4,
 "nbformat_minor": 2
}
