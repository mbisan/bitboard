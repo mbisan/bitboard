{
 "cells": [
  {
   "cell_type": "code",
   "execution_count": 34,
   "metadata": {},
   "outputs": [],
   "source": [
    "bitpositions = []\n",
    "for i in range(8):\n",
    "    for j in range(8):\n",
    "        bitpositions.append([])\n",
    "        for k in range(-10, 10):\n",
    "            bitpositions[-1].append((i+k, j+k))\n",
    "        for k in range(-10, 10):\n",
    "            bitpositions[-1].append((i+k, j-k))\n",
    "\n",
    "bitpositions_relevant = []\n",
    "\n",
    "for i in range(8):\n",
    "    for j in range(8):\n",
    "        bitpositions_relevant.append([])\n",
    "\n",
    "        for bp in bitpositions[i*8+j]:\n",
    "            if (abs(bp[0]-i)>=1 or abs(bp[1]-j)>=1) and (bp[0]<8 and bp[0]>=0 and bp[1]<8 and bp[1]>=0):\n",
    "                bitpositions_relevant[-1].append(bp[0]*8+bp[1])\n",
    "\n",
    "        bitpositions_relevant[-1].sort()"
   ]
  },
  {
   "cell_type": "code",
   "execution_count": 37,
   "metadata": {},
   "outputs": [
    {
     "name": "stdout",
     "output_type": "stream",
     "text": [
      "{-9, 18, 27, 36, 45, 54, 63, }\n",
      "{-8, 10, 19, 28, 37, 46, 55, }\n",
      "{-9, 11, 16, 20, 29, 38, 47, }\n",
      "{-10, 12, 17, 21, 24, 30, 39, }\n",
      "{-11, 13, 18, 22, 25, 31, 32, }\n",
      "{-12, 14, 19, 23, 26, 33, 40, }\n",
      "{-13, 15, 20, 27, 34, 41, 48, }\n",
      "{-14, 21, 28, 35, 42, 49, 56, }\n",
      "{-1, 17, 26, 35, 44, 53, 62, }\n",
      "{-0, 2, 16, 18, 27, 36, 45, 54, 63, }\n",
      "{-1, 3, 17, 19, 24, 28, 37, 46, 55, }\n",
      "{-2, 4, 18, 20, 25, 29, 32, 38, 47, }\n",
      "{-3, 5, 19, 21, 26, 30, 33, 39, 40, }\n",
      "{-4, 6, 20, 22, 27, 31, 34, 41, 48, }\n",
      "{-5, 7, 21, 23, 28, 35, 42, 49, 56, }\n",
      "{-6, 22, 29, 36, 43, 50, 57, }\n",
      "{-2, 9, 25, 34, 43, 52, 61, }\n",
      "{-3, 8, 10, 24, 26, 35, 44, 53, 62, }\n",
      "{-0, 4, 9, 11, 25, 27, 32, 36, 45, 54, 63, }\n",
      "{-1, 5, 10, 12, 26, 28, 33, 37, 40, 46, 55, }\n",
      "{-2, 6, 11, 13, 27, 29, 34, 38, 41, 47, 48, }\n",
      "{-3, 7, 12, 14, 28, 30, 35, 39, 42, 49, 56, }\n",
      "{-4, 13, 15, 29, 31, 36, 43, 50, 57, }\n",
      "{-5, 14, 30, 37, 44, 51, 58, }\n",
      "{-3, 10, 17, 33, 42, 51, 60, }\n",
      "{-4, 11, 16, 18, 32, 34, 43, 52, 61, }\n",
      "{-5, 8, 12, 17, 19, 33, 35, 40, 44, 53, 62, }\n",
      "{-0, 6, 9, 13, 18, 20, 34, 36, 41, 45, 48, 54, 63, }\n",
      "{-1, 7, 10, 14, 19, 21, 35, 37, 42, 46, 49, 55, 56, }\n",
      "{-2, 11, 15, 20, 22, 36, 38, 43, 47, 50, 57, }\n",
      "{-3, 12, 21, 23, 37, 39, 44, 51, 58, }\n",
      "{-4, 13, 22, 38, 45, 52, 59, }\n",
      "{-4, 11, 18, 25, 41, 50, 59, }\n",
      "{-5, 12, 19, 24, 26, 40, 42, 51, 60, }\n",
      "{-6, 13, 16, 20, 25, 27, 41, 43, 48, 52, 61, }\n",
      "{-7, 8, 14, 17, 21, 26, 28, 42, 44, 49, 53, 56, 62, }\n",
      "{-0, 9, 15, 18, 22, 27, 29, 43, 45, 50, 54, 57, 63, }\n",
      "{-1, 10, 19, 23, 28, 30, 44, 46, 51, 55, 58, }\n",
      "{-2, 11, 20, 29, 31, 45, 47, 52, 59, }\n",
      "{-3, 12, 21, 30, 46, 53, 60, }\n",
      "{-5, 12, 19, 26, 33, 49, 58, }\n",
      "{-6, 13, 20, 27, 32, 34, 48, 50, 59, }\n",
      "{-7, 14, 21, 24, 28, 33, 35, 49, 51, 56, 60, }\n",
      "{-15, 16, 22, 25, 29, 34, 36, 50, 52, 57, 61, }\n",
      "{-8, 17, 23, 26, 30, 35, 37, 51, 53, 58, 62, }\n",
      "{-0, 9, 18, 27, 31, 36, 38, 52, 54, 59, 63, }\n",
      "{-1, 10, 19, 28, 37, 39, 53, 55, 60, }\n",
      "{-2, 11, 20, 29, 38, 54, 61, }\n",
      "{-6, 13, 20, 27, 34, 41, 57, }\n",
      "{-7, 14, 21, 28, 35, 40, 42, 56, 58, }\n",
      "{-15, 22, 29, 32, 36, 41, 43, 57, 59, }\n",
      "{-23, 24, 30, 33, 37, 42, 44, 58, 60, }\n",
      "{-16, 25, 31, 34, 38, 43, 45, 59, 61, }\n",
      "{-8, 17, 26, 35, 39, 44, 46, 60, 62, }\n",
      "{-0, 9, 18, 27, 36, 45, 47, 61, 63, }\n",
      "{-1, 10, 19, 28, 37, 46, 62, }\n",
      "{-7, 14, 21, 28, 35, 42, 49, }\n",
      "{-15, 22, 29, 36, 43, 48, 50, }\n",
      "{-23, 30, 37, 40, 44, 49, 51, }\n",
      "{-31, 32, 38, 41, 45, 50, 52, }\n",
      "{-24, 33, 39, 42, 46, 51, 53, }\n",
      "{-16, 25, 34, 43, 47, 52, 54, }\n",
      "{-8, 17, 26, 35, 44, 53, 55, }\n",
      "{-0, 9, 18, 27, 36, 45, 54, }\n"
     ]
    }
   ],
   "source": [
    "for p in bitpositions_relevant:\n",
    "    print(\"{-\", end=\"\")\n",
    "    for i in p:\n",
    "        print(i, \", \", sep=\"\", end=\"\")\n",
    "    print(\"}\")"
   ]
  },
  {
   "cell_type": "code",
   "execution_count": 26,
   "metadata": {},
   "outputs": [
    {
     "name": "stdout",
     "output_type": "stream",
     "text": [
      "00000x00\n",
      "00000000\n",
      "xxxx000x\n",
      "00000000\n",
      "00000x00\n",
      "00000x00\n",
      "00000x00\n",
      "00000x00\n"
     ]
    }
   ],
   "source": [
    "print_listofindices(bitpositions_relevant[45])"
   ]
  },
  {
   "cell_type": "code",
   "execution_count": 25,
   "metadata": {},
   "outputs": [],
   "source": [
    "def print_listofindices(loi):\n",
    "    for i in range(7, -1, -1):\n",
    "        for j in range(8):\n",
    "            if i*8+j in loi:\n",
    "                print(\"x\", end=\"\")\n",
    "            else:\n",
    "                print(\"0\", end=\"\")\n",
    "        print()"
   ]
  },
  {
   "cell_type": "code",
   "execution_count": null,
   "metadata": {},
   "outputs": [],
   "source": [
    "def pext_inv(i, loi):\n",
    "    res = 0\n",
    "    for pos in loi:\n",
    "        "
   ]
  },
  {
   "cell_type": "code",
   "execution_count": null,
   "metadata": {},
   "outputs": [],
   "source": [
    "for i in range()"
   ]
  },
  {
   "cell_type": "code",
   "execution_count": 16,
   "metadata": {},
   "outputs": [
    {
     "data": {
      "text/plain": [
       "11"
      ]
     },
     "execution_count": 16,
     "metadata": {},
     "output_type": "execute_result"
    }
   ],
   "source": [
    "len()"
   ]
  }
 ],
 "metadata": {
  "kernelspec": {
   "display_name": "dev",
   "language": "python",
   "name": "python3"
  },
  "language_info": {
   "codemirror_mode": {
    "name": "ipython",
    "version": 3
   },
   "file_extension": ".py",
   "mimetype": "text/x-python",
   "name": "python",
   "nbconvert_exporter": "python",
   "pygments_lexer": "ipython3",
   "version": "3.10.13"
  }
 },
 "nbformat": 4,
 "nbformat_minor": 2
}
